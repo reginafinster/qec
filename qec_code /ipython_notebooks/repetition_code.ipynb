{
 "cells": [
  {
   "cell_type": "code",
   "execution_count": 1,
   "id": "46eaf4b7",
   "metadata": {},
   "outputs": [],
   "source": [
    "# import modules\n",
    "import numpy as np\n",
    "import math\n",
    "import copy\n",
    "import matplotlib.pyplot as plt\n",
    "from itertools import *\n",
    "from datetime import datetime, date\n",
    "import logging\n",
    "import pickle\n",
    "from operator import itemgetter\n",
    "import itertools\n",
    "\n",
    "import networkx as nx\n",
    "\n",
    "from qiskit.result import marginal_counts\n",
    "from qiskit.providers.ibmq.managed import IBMQJobManager\n",
    "from qiskit.tools import job_monitor\n",
    "\n",
    "from qiskit.providers.aer.noise import NoiseModel\n",
    "from qiskit.quantum_info import *\n",
    "from qiskit import QuantumCircuit, QuantumRegister, ClassicalRegister, transpile, Aer, execute, IBMQ, assemble\n",
    "from qiskit.providers.aer import AerSimulator\n",
    "from qiskit.tools.jupyter import *\n",
    "from qiskit.visualization import *\n",
    "\n",
    "import qiskit.quantum_info as qi\n",
    "from qiskit.providers.aer.noise import *\n",
    "from qiskit.providers.aer import AerError"
   ]
  },
  {
   "cell_type": "code",
   "execution_count": 2,
   "id": "2b13a8c3",
   "metadata": {},
   "outputs": [],
   "source": [
    "# set up logger\n",
    "logger_ = logging.getLogger()\n",
    "logger_.setLevel(logging.WARNING)"
   ]
  },
  {
   "cell_type": "code",
   "execution_count": null,
   "id": "c7bb93b2",
   "metadata": {},
   "outputs": [],
   "source": [
    "#IBMQ.load_account()"
   ]
  },
  {
   "cell_type": "code",
   "execution_count": 3,
   "id": "084831d8",
   "metadata": {},
   "outputs": [
    {
     "data": {
      "text/plain": [
       "<AccountProvider for IBMQ(hub='fraunhofer', group='default', project='default')>"
      ]
     },
     "execution_count": 3,
     "metadata": {},
     "output_type": "execute_result"
    }
   ],
   "source": [
    "# load account for accessing SystemQ One in Ehningen\n",
    "#IBMQ.disable_account()\n",
    "IBMQ.enable_account('807285e4f347ace42ec1d9020bd10ba9b708ec43e6394de8efb6ac412427e1a7ac87c1ab91bc7a7ca2ca67f02c708d371243234a58021d4017a7e6e223ac30a3', 'https://auth.de.quantum-computing.ibm.com/api')"
   ]
  },
  {
   "cell_type": "code",
   "execution_count": 4,
   "id": "5d0db151",
   "metadata": {},
   "outputs": [
    {
     "data": {
      "text/plain": [
       "[<AccountProvider for IBMQ(hub='fraunhofer', group='default', project='default')>,\n",
       " <AccountProvider for IBMQ(hub='fraunhofer-de', group='fhg-all', project='ticket')>]"
      ]
     },
     "execution_count": 4,
     "metadata": {},
     "output_type": "execute_result"
    }
   ],
   "source": [
    "# load non-public provider and select backend\n",
    "IBMQ.providers()"
   ]
  },
  {
   "cell_type": "code",
   "execution_count": 5,
   "id": "3685d213",
   "metadata": {},
   "outputs": [],
   "source": [
    "#provider = IBMQ.get_provider(project='ticket-ext')\n",
    "provider = IBMQ.get_provider(project='ticket')\n",
    "#backend = provider.get_backend('ibmq_ehningen')\n",
    "#provider.backends()"
   ]
  },
  {
   "cell_type": "code",
   "execution_count": null,
   "id": "ffd90917",
   "metadata": {},
   "outputs": [],
   "source": [
    "def print_backend_info(backend):\n",
    "    print(backend.name(), end=': ')\n",
    "    print('simulator: ' + str(backend.configuration().simulator), end=', ')\n",
    "    print(str(backend.configuration().n_qubits) + ' qubits', end=', ')\n",
    "    print(str(backend.status().pending_jobs) + ' jobs', end=', ')\n",
    "    print(backend.status().status_msg, end=', ')\n",
    "    if 'runtime' in backend.configuration().input_allowed:\n",
    "        print(\"supports Runtime: yes\")\n",
    "    else:\n",
    "        print(\"supports Runtime: no\")\n",
    "\n",
    "print(\"Provider:\",provider)\n",
    "print(\"Infos for available backends:\")\n",
    "for backend in provider.backends():\n",
    "    print_backend_info(backend)"
   ]
  },
  {
   "cell_type": "code",
   "execution_count": null,
   "id": "fb7c5f62",
   "metadata": {},
   "outputs": [],
   "source": [
    "print(\"Filtered backends:\")\n",
    "backends_filtered = provider.backends(\n",
    "    filters=lambda backend: \n",
    "        backend.configuration().n_qubits > 20\n",
    "        and\n",
    "        backend.configuration().simulator is False\n",
    "        and\n",
    "        backend.status().operational is True\n",
    "        and\n",
    "        'runtime' in backend.configuration().input_allowed)\n",
    "\n",
    "for backend in backends_filtered:\n",
    "    print_backend_info(backend)\n",
    "\n",
    "from qiskit.providers.ibmq import least_busy\n",
    "backend = least_busy(backends_filtered)\n",
    "\n",
    "print(\"The least busy backend is \" + backend.name())"
   ]
  },
  {
   "cell_type": "code",
   "execution_count": 6,
   "id": "ba6cc5b2",
   "metadata": {},
   "outputs": [],
   "source": [
    "backend_name = 'ibmq_ehningen' # oder toronto (gleicher Chip, Falcon4)\n",
    "backend = provider.get_backend(backend_name)"
   ]
  },
  {
   "cell_type": "code",
   "execution_count": null,
   "id": "606ac5d3",
   "metadata": {},
   "outputs": [],
   "source": [
    "jobs = backend.jobs(descending=True, status=QUEUED)"
   ]
  },
  {
   "cell_type": "code",
   "execution_count": 7,
   "id": "70213d3b",
   "metadata": {},
   "outputs": [
    {
     "name": "stderr",
     "output_type": "stream",
     "text": [
      "Device reported a gate error parameter greater than maximum allowed value (1.000000 > 0.800000). Truncating to maximum value.\n",
      "Device model returned a depolarizing error parameter greater than maximum allowed value (1.066908 > 1.066667). Truncating to maximum value.\n",
      "Device reported a gate error parameter greater than maximum allowed value (1.000000 > 0.800000). Truncating to maximum value.\n",
      "Device model returned a depolarizing error parameter greater than maximum allowed value (1.066952 > 1.066667). Truncating to maximum value.\n"
     ]
    }
   ],
   "source": [
    "# get 'live' configuration and properties \n",
    "configuration = backend.configuration()\n",
    "coupling_map = configuration.coupling_map\n",
    "\n",
    "noise_model = NoiseModel.from_backend(backend)\n",
    "basis_gates = noise_model.basis_gates\n",
    "\n",
    "properties = backend.properties()"
   ]
  },
  {
   "cell_type": "code",
   "execution_count": null,
   "id": "fa165d73",
   "metadata": {},
   "outputs": [],
   "source": [
    "# dump noise model for later use\n",
    "pickle_noise_model = [noise_model, configuration, properties]\n",
    "with open(\"noisemodel_\" + backend_name + str(date.today()) + \"23-43-.dat\", \"bw\") as f:\n",
    "    pickle.dump(pickle_noise_model,f)"
   ]
  },
  {
   "cell_type": "code",
   "execution_count": null,
   "id": "0746413a",
   "metadata": {},
   "outputs": [],
   "source": [
    "with open(\"noisemodel_ibmq_ehningen2022-05-27.dat\", \"br\") as f:\n",
    "    noise_data = pickle.load(f)\n",
    "    noise_model = noise_data[0]\n",
    "    configuration = noise_data[1]\n",
    "    properties = noise_data[2]\n",
    "coupling_map = configuration.coupling_map\n",
    "basis_gates = noise_model.basis_gates"
   ]
  },
  {
   "cell_type": "code",
   "execution_count": 8,
   "id": "dce3c024",
   "metadata": {},
   "outputs": [],
   "source": [
    "def build_noise_model_from_backend():\n",
    "    single_qubit_gates = ['id', 'sx', 'x']\n",
    "    two_qubit_gates = ['cx']\n",
    "    measure_reset = ['reset', 'measure']\n",
    "    # instantiate model\n",
    "    my_noise_model = NoiseModel()\n",
    "    # Build single qubit errors: ich nehme vorläufig die fertigen, dann gleiche ich daran ab. \n",
    "    for i in range(configuration.n_qubits):\n",
    "        t2 = properties.t2(i)\n",
    "        t1 = properties.t1(i)\n",
    "        if (t2 >= 2*t1):\n",
    "            logging.info(\"t2 of qubit \",i,\" is too large:\", t2)\n",
    "            t2 = 2*t1\n",
    "            logging.info(\"Truncated to :\", t2, \"\\n\")\n",
    "        for gate in single_qubit_gates:\n",
    "            # get calibrated gate properties from backend\n",
    "            gateerror = properties.gate_error(gate,i)\n",
    "            ###################print(\"gateerror: \", gateerror)\n",
    "            gatetime = properties.gate_length(gate,i)\n",
    "            # set up appropriate thermal error\n",
    "            thermal_error = thermal_relaxation_error(t1=t1, t2=t2, time=gatetime)\n",
    "            # calc fidelity and difference to total gate error\n",
    "            fid_therm = average_gate_fidelity(thermal_error)\n",
    "            logging.info(\"infidelity thermal error: \", (1-fid_therm))\n",
    "            fidelity_diff = fid_therm-(1-gateerror)\n",
    "            # fill up the difference with a depolarizing error\n",
    "            p_depol = 2*fidelity_diff\n",
    "            if (p_depol<=0.0):\n",
    "                p_depol=0\n",
    "                logging.info((\"for qubit {} and gate {} thermal error {} larger than gate error {}. \\n\")\\\n",
    "                      .format(i,gate, (1-fid_therm),gateerror))\n",
    "            single_depol_error = depolarizing_error(p_depol,1)\n",
    "            fid_depol = average_gate_fidelity(single_depol_error)\n",
    "            ################print(\"infidelity depol error: \", (1-fid_depol))\n",
    "            # compose operators, depolarizing error first, followed by thermal relaxation\n",
    "            total_error = single_depol_error.compose(thermal_error)\n",
    "            # check if gate fidelity of the model is equal to the measured gate fidelity \n",
    "            gate_fidelity = average_gate_fidelity(total_error)\n",
    "            diff_gateerror = (gateerror-(1-gate_fidelity))\n",
    "            if abs(diff_gateerror)>=0.000001:\n",
    "                logging.info(\"difference of calculated and calibrated gate error: \", diff_gateerror, \"\\n\")\n",
    "\n",
    "            # add error on ith qubit to error model\n",
    "            my_noise_model.add_quantum_error(total_error,[gate],[i])\n",
    "\n",
    "            # compare with build-in model:\n",
    "            compareerror = Kraus((noise_model.__dict__)['_local_quantum_errors'][gate][str(i)])\n",
    "            if (1-process_fidelity(Kraus(total_error),compareerror))>=0.00000001:\n",
    "                logging.info(\"operator deviation for qubit nr and gate \", i, gate, \"\\n\")\n",
    "                logging.info(process_fidelity(Kraus(total_error),compareerror))\n",
    "\n",
    "    # build two-qubit errors:Two-qubit gate errors consisting of a two-qubit depolarizing error followed by single-qubit thermal relaxation errors on both qubits in the gate.\n",
    "    for pair in coupling_map:\n",
    "        t2_0 = properties.t2(pair[0])\n",
    "        t1_0 = properties.t1(pair[0])\n",
    "        if (t2_0 >= 2*t1_0):\n",
    "            logging.info(\"t2 of qubit \", pair[0],\" is too large:\", t2_0)\n",
    "            t2_0 = 2*t1_0\n",
    "            logging.info(\"Truncated to :\", t2_0)\n",
    "        t2_1 = properties.t2(pair[1])\n",
    "        t1_1 = properties.t1(pair[1])\n",
    "        if (t2_1 >= 2*t1_1):\n",
    "            logging.info(\"t2 of qubit \",pair[1],\" is too large:\", t2_1)\n",
    "            t2_1 = 2*t1_1\n",
    "            logging.info(\"Truncated to :\", t2_1)\n",
    "        for gate in two_qubit_gates:\n",
    "            gateerror = properties.gate_error(gate,pair)\n",
    "            logging.info((\"gateerror {}\").format(gateerror))\n",
    "            gatetime = properties.gate_length(gate,pair)\n",
    "            thermal_error_0 = thermal_relaxation_error(t1=t1_0, t2=t2_0, time=gatetime)\n",
    "            thermal_error_1 = thermal_relaxation_error(t1=t1_1, t2=t2_1, time=gatetime)\n",
    "\n",
    "            # so hat qubit 0 den thermal error 0.\n",
    "            # Aber ist das auch das erste des Paars, wenn ich dann das paar mit dem two-qubit-quantum error belege?\n",
    "            thermal_error = thermal_error_0.tensor(thermal_error_1)\n",
    "\n",
    "            fid_therm = average_gate_fidelity(thermal_error)\n",
    "            logging.info((\"thermal error {}\").format(1.0-fid_therm))\n",
    "            error_diff = gateerror - 1+fid_therm\n",
    "            logging.info((\"error diff {}\").format(error_diff))\n",
    "\n",
    "            # Formel für Fehler nur auf erstem Qubit:\n",
    "            #p_depol = (5.0/3.0)*error_diff\n",
    "\n",
    "            # Formel für depol-Fehler auf beiden Qubits:\n",
    "            p_depol = (4.0/3.0)*error_diff\n",
    "\n",
    "            if (p_depol<=0.0):\n",
    "                p_depol=0\n",
    "                logging.info((\"for qubit {} and gate {} thermal error {} larger than gate error {}. \\n\")\\\n",
    "                      .format(i,gate, (1-fid_therm),gateerror))\n",
    "            elif (p_depol>=1.0666666666666667):\n",
    "                logging.info((\"for qubit {} and gate {} depolarizing error {} not big enough. Difference is {}. \\n\")\\\n",
    "                      .format(i,gate, p_depol, (p_depol-1.0666666666666667)))\n",
    "                p_depol=1.0666666666666667\n",
    "            # das hier ist die Variante, bei der der depol-Fehler im 4-dim Raum beider Qubits stattfindet\n",
    "            logging.info((\"p_depol {} \\n\").format(p_depol))\n",
    "            try:\n",
    "                double_depol_error = depolarizing_error(p_depol,2)\n",
    "            except:\n",
    "                raise\n",
    "\n",
    "            # hier ist der Fehler nur auf dem Kontrollqubit\n",
    "            #single_depol_error = depolarizing_error(p_depol,1)\n",
    "            #no_error = pauli_error([('I', 1.0)])\n",
    "            #double_depol_error = no_error.tensor(single_depol_error)\n",
    "\n",
    "            fid_depol = average_gate_fidelity(double_depol_error)\n",
    "\n",
    "            total_error = double_depol_error.compose(thermal_error)\n",
    "\n",
    "            # check if gate fidelity of the model is equal to the measured gate fidelity \n",
    "            gate_fidelity = average_gate_fidelity(total_error)\n",
    "            diff_gateerror = (gateerror-(1-gate_fidelity))\n",
    "            if abs(diff_gateerror)>=0.00000001:\n",
    "                logging.info(\"difference of calculated and calibrated gate error: \", diff_gateerror)\n",
    "\n",
    "            my_noise_model.add_quantum_error(total_error,[gate],pair)\n",
    "\n",
    "            # compare with build-in model:\n",
    "            compareerror = Kraus((noise_model.__dict__)['_local_quantum_errors'][gate][str(pair[0])+\",\"+str(pair[1])])\n",
    "            if (1-process_fidelity(Kraus(total_error),compareerror))>=0.00000001:\n",
    "                logging.info(\"operator deviation for qubits and gate \", pair, gate, \": \", 1-process_fidelity(Kraus(total_error),compareerror))\n",
    "                logging.info(\"\\n\")\n",
    "    # add reset errors\n",
    "    # get values for each qubit\n",
    "    for i in range(configuration.n_qubits):\n",
    "        l = properties.to_dict()['qubits'][i]\n",
    "        for r in (d['value'] for d in l if d['name']=='prob_meas0_prep1'):\n",
    "            p01=r\n",
    "        for r in (d['value'] for d in l if d['name']=='prob_meas1_prep0'):\n",
    "            p10=r\n",
    "        prob_list = [[1-p10,p10],[p01,1-p01]]\n",
    "        ro_error = ReadoutError(prob_list,i)\n",
    "        my_noise_model.add_readout_error(ro_error,[i])\n",
    "        \n",
    "    return my_noise_model\n",
    "\n",
    "noise_model = build_noise_model_from_backend()"
   ]
  },
  {
   "cell_type": "code",
   "execution_count": 9,
   "id": "1d1ee040",
   "metadata": {},
   "outputs": [
    {
     "data": {
      "image/png": "[encoded data removed]",
      "text/plain": [
       "<Figure size 360x360 with 1 Axes>"
      ]
     },
     "execution_count": 9,
     "metadata": {},
     "output_type": "execute_result"
    }
   ],
   "source": [
    "from qiskit.visualization import plot_gate_map\n",
    "plot_gate_map(backend)"
   ]
  },
  {
   "cell_type": "code",
   "execution_count": 10,
   "id": "85836410",
   "metadata": {},
   "outputs": [
    {
     "name": "stdout",
     "output_type": "stream",
     "text": [
      "68\n"
     ]
    }
   ],
   "source": [
    "# find all connected subgraphs in coupling map\n",
    "G = nx.Graph()\n",
    "G.add_nodes_from(list(np.arange(27)))\n",
    "G.add_edges_from(coupling_map)\n",
    "\n",
    "all_connected_subgraphs = []\n",
    "layout_list = []\n",
    "nb_nodes=5\n",
    "for SG in (G.subgraph(selected_nodes) for selected_nodes in combinations(G, nb_nodes)):\n",
    "    if nx.is_connected(SG):\n",
    "        #print(SG.nodes)\n",
    "        all_connected_subgraphs.append(SG)\n",
    "        cnots = list(SG.edges) + [x[1] for x in (list(itertools.permutations(tup)) for tup in SG.edges)]\n",
    "        layout_list.append([list(SG.nodes),cnots])\n",
    "print(len(all_connected_subgraphs))"
   ]
  },
  {
   "cell_type": "markdown",
   "id": "3f4aa9d6",
   "metadata": {},
   "source": [
    "find all maximally connected subgraphs within each layout\n",
    "the item \"cnot_gate_list\" specifies the coupling needed for the specific algorithm\n",
    "so is has to be adapted to the structure of the specific code\n",
    "counter_cnots counts the number of gate within one layout, so it has to be adapted too"
   ]
  },
  {
   "cell_type": "code",
   "execution_count": 11,
   "id": "fc46fe2c",
   "metadata": {},
   "outputs": [],
   "source": [
    "# find all maximally connected subgraphs within each layout\n",
    "cnot_layout_list = []\n",
    "for item in layout_list:\n",
    "    permuts = list(itertools.permutations(item[0]))\n",
    "    for permut in permuts:\n",
    "        cnot_gate_list = [(permut[0],permut[3]),(permut[1],permut[0]),(permut[1],permut[2]),(permut[2],permut[4])]\n",
    "        #cnot_gate_list = [(permut[0],permut[3]),(permut[1],permut[3]),(permut[1],permut[4]),(permut[2],permut[4])]\n",
    "        counter_cnots = 0\n",
    "        for el in cnot_gate_list:\n",
    "            if (el in item[1]):\n",
    "                counter_cnots+=1\n",
    "        if counter_cnots==len(cnot_gate_list):\n",
    "            cnot_layout_list.append([permut,cnot_gate_list])\n",
    "checklist = []\n",
    "for item in cnot_layout_list:\n",
    "    if item not in checklist:\n",
    "        checklist.append(item)\n",
    "\n",
    "cnot_layout_list = checklist\n",
    "layout_list = cnot_layout_list"
   ]
  },
  {
   "cell_type": "code",
   "execution_count": 12,
   "id": "7f627410",
   "metadata": {},
   "outputs": [],
   "source": [
    "# characterize average performance of qubits chosen with initial_layout\n",
    "def characterize_initial_layout(initial_layout,initial_coupling,pos_xgate):\n",
    "    #print(\"initial_layout: {}, initial_coupling:{}\".format(initial_layout, initial_coupling))\n",
    "    nb_qubits = len(initial_layout)\n",
    "    nb_cx = len(initial_coupling)\n",
    "    t2 = 0.0\n",
    "    t1 = 0.0\n",
    "    ro_error = (properties.readout_error(int(initial_layout[-1])) + properties.readout_error(int(initial_layout[-2])))*0.5\n",
    "    if pos_xgate == None:\n",
    "        error_xgate = 0.0\n",
    "    else:\n",
    "        error_xgate = properties.gate_error('x',int(initial_layout[pos_xgate]))\n",
    "    av_error_cnot = 0.0\n",
    "    for i in initial_layout:\n",
    "        t2 += properties.t2(int(i))\n",
    "        t1 += properties.t1(int(i))\n",
    "        \n",
    "    for pair in initial_coupling:\n",
    "        av_error_cnot += properties.gate_error('cx', pair)\n",
    "    return([av_error_cnot/nb_cx, t2/nb_qubits, error_xgate, ro_error, t1/nb_qubits])"
   ]
  },
  {
   "cell_type": "code",
   "execution_count": 13,
   "id": "54a95752",
   "metadata": {},
   "outputs": [],
   "source": [
    "def bitflip_code_only_detection(pos_xerror):\n",
    "    q = QuantumRegister(5)\n",
    "    c = ClassicalRegister(2)\n",
    "    qc = QuantumCircuit(q,c)\n",
    "    \n",
    "    # not necessary for init state = ground state\n",
    "    # create cat state\n",
    "    #qc.cx(q[0],q[1])\n",
    "    #qc.cx(q[0],q[2])\n",
    "    #qc.barrier()\n",
    "\n",
    "    # noisy evolution\n",
    "    if pos_xerror==None:\n",
    "        pass\n",
    "    else:\n",
    "        qc.x(int(pos_xerror))\n",
    "\n",
    "    # measure stabilizer\n",
    "    qc.cx(0,3)\n",
    "    qc.cx(1,3)\n",
    "    \n",
    "    qc.cx(1,4)\n",
    "    qc.cx(2,4)\n",
    "    \n",
    "    qc.measure([3,4],[0,1])\n",
    "    \n",
    "    return qc"
   ]
  },
  {
   "cell_type": "code",
   "execution_count": 14,
   "id": "f689b116",
   "metadata": {},
   "outputs": [],
   "source": [
    "def bitflip_code_only_detection_with_cat_state(pos_xerror):\n",
    "    q = QuantumRegister(5)\n",
    "    c1 = ClassicalRegister(2)\n",
    "    c2 = ClassicalRegister(2)\n",
    "    qc = QuantumCircuit(q,c1,c2)\n",
    "    \n",
    "    qc.cx(0,1)\n",
    "    qc.cx(1,2)\n",
    "\n",
    "    qc.cx(2,4)\n",
    "    qc.cx(4,2)\n",
    "    qc.cx(2,4)\n",
    "    qc.cx(3,0)\n",
    "    qc.cx(0,3)\n",
    "    #qc.cx(3,0)\n",
    "    #qc.barrier()\n",
    "\n",
    "    # 3,1,4 code, 0,2 ancilla\n",
    "\n",
    "    # measure stabilizer\n",
    "\n",
    "    #qc.cx(3,0)\n",
    "    qc.cx(1,0)\n",
    "\n",
    "    qc.cx(1,2)\n",
    "    qc.cx(4,2)\n",
    "    qc.measure([0,2],c1)\n",
    "\n",
    "    #qc.barrier()\n",
    "    # noisy evolution\n",
    "    if pos_error==None:\n",
    "        pass\n",
    "    elif pos_error==0:\n",
    "        qc.x(3)\n",
    "    elif pos_error==1:\n",
    "        qc.x(1)\n",
    "    elif pos_error==2:\n",
    "        qc.x(4)\n",
    "\n",
    "    #qc.barrier()\n",
    "\n",
    "    # measure stabilizer\n",
    "\n",
    "    qc.cx(3,0)\n",
    "    qc.cx(1,0)\n",
    "\n",
    "    qc.cx(1,2)\n",
    "    qc.cx(4,2)\n",
    "\n",
    "    qc.measure([0,2],c2)\n",
    "\n",
    "    return qc"
   ]
  },
  {
   "cell_type": "code",
   "execution_count": null,
   "id": "c84db151",
   "metadata": {},
   "outputs": [],
   "source": [
    "def bitflip_code_only_detection_with_cat_state_old(pos_error):\n",
    "    q = QuantumRegister(5)\n",
    "    c1 = ClassicalRegister(2)\n",
    "    c2 = ClassicalRegister(2)\n",
    "    qc = QuantumCircuit(q,c1,c2)\n",
    "    \n",
    "    # create cat state\n",
    "    # swap operations depend on the chosen layout!\n",
    "    qc.swap(q[0],q[3])\n",
    "    qc.cx(q[3],q[1])\n",
    "    qc.swap(q[2],q[4])\n",
    "    qc.cx(q[1],q[4])\n",
    "    qc.barrier()\n",
    "    qc.swap(q[2],q[4])\n",
    "    qc.swap(q[0],q[3])\n",
    "    qc.barrier()\n",
    "    \n",
    "    # measure stabilizer\n",
    "    qc.cx(0,3)\n",
    "    qc.cx(1,3)\n",
    "    \n",
    "    qc.cx(1,4)\n",
    "    qc.cx(2,4)\n",
    "    \n",
    "    qc.measure([3,4],c1)\n",
    "\n",
    "    # noisy evolution\n",
    "    if pos_xerror==None:\n",
    "        pass\n",
    "    else:\n",
    "        qc.x(int(pos_xerror))\n",
    "\n",
    "    # measure stabilizer\n",
    "    qc.cx(0,3)\n",
    "    qc.cx(1,3)\n",
    "    \n",
    "    qc.cx(1,4)\n",
    "    qc.cx(2,4)\n",
    "    \n",
    "    qc.measure([3,4],c2)\n",
    "    \n",
    "    return qc"
   ]
  },
  {
   "cell_type": "code",
   "execution_count": 32,
   "id": "fa67b4d8",
   "metadata": {},
   "outputs": [],
   "source": [
    "# set up required quantum circuit:\n",
    "readout_string = '10'\n",
    "# change to (00) for None, (01) for x[0], (11) for x[1], (10) for x[2]\n",
    "pos_error=2\n",
    "\n",
    "# define number of shots per job\n",
    "shots = 20000\n",
    "\n",
    "# run code either on simulator or on QPU,\n",
    "# bool for using simulator\n",
    "simulator_switch = True\n",
    "cat_state_switch = True\n",
    "if cat_state_switch:\n",
    "    qc = bitflip_code_only_detection_with_cat_state(pos_error)\n",
    "else:\n",
    "    qc = bitflip_code_only_detection(pos_error)\n",
    "\n",
    "if simulator_switch:\n",
    "    #my_noise_model = build_noise_model_from_backend()\n",
    "    ################## Achtung! untere zeile ersetzt die layout-liste mit der cnot_layout_liste!########################\n",
    "    ####################################################################################################################\n",
    "    layout_list = cnot_layout_list\n",
    "    # set up simulator\n",
    "    simulator = AerSimulator(noise_model=noise_model)\n",
    "    results = []\n",
    "\n",
    "    # loop over layout list and store result in list of dicts\n",
    "    layout_encoding_counts = []\n",
    "    layout_logical_counts = []\n",
    "\n",
    "    for l, layout in enumerate(layout_list):\n",
    "        encoding_counts = []\n",
    "        logical_counts = []\n",
    "        tqc = transpile(qc, backend=simulator, basis_gates=basis_gates, \\\n",
    "                    optimization_level=0, coupling_map=coupling_map, initial_layout=layout[0])\n",
    "        #display(tqc.draw('mpl',idle_wires=False))\n",
    "        #print(tqc.count_ops()['cx'])\n",
    "        result = simulator.run(tqc,shots=shots,memory=True).result()\n",
    "        \n",
    "        if cat_state_switch:\n",
    "            projection_counts = marginal_counts(result, indices=[0,1]).get_counts()\n",
    "            ancilla_counts = result.get_counts()['10 00']\n",
    "            error_rate = 1-(ancilla_counts/projection_counts['00'])\n",
    "        else:\n",
    "            ancilla_counts = marginal_counts(result, indices=[0,1]).get_counts()\n",
    "            error_rate = 1.0-(ancilla_counts.get(readout_string)/shots)\n",
    "        \n",
    "        results_ = [l,round(error_rate,5)]\n",
    "        results_ += characterize_initial_layout(initial_layout=layout[0],initial_coupling=layout[1],pos_xgate=pos_error)\n",
    "        results_.append(tqc.depth())\n",
    "        results_.append(tqc.count_ops()['cx'])\n",
    "        results_.append(tqc.size())\n",
    "        results_.append(str(layout[0]))\n",
    "        results.append(results_)\n",
    "\n",
    "else: \n",
    "    job_manager = IBMQJobManager()\n",
    "    tqcs = []\n",
    "\n",
    "    for l, layout in enumerate(layout_list):\n",
    "        tqc = transpile(qc, backend=backend, optimization_level=0, initial_layout=layout[0])\n",
    "        tqcs.append(tqc)\n",
    "        \n",
    "    job_set3 = job_manager.run(tqcs, backend=backend, shots=shots)"
   ]
  },
  {
   "cell_type": "code",
   "execution_count": null,
   "id": "f8f08036",
   "metadata": {},
   "outputs": [],
   "source": [
    "############################# run only if using QPU #######################################\n",
    "# check if last job has successfully run and if error messages occurred\n",
    "print(job_set0.report())\n",
    "print(job_set0.statuses())\n",
    "print(job_set0.error_messages())"
   ]
  },
  {
   "cell_type": "code",
   "execution_count": 19,
   "id": "98b6519c",
   "metadata": {},
   "outputs": [
    {
     "name": "stdout",
     "output_type": "stream",
     "text": [
      "[]\n"
     ]
    }
   ],
   "source": [
    "jobs = backend.jobs(descending=True, status='RUNNING')\n",
    "print(jobs)"
   ]
  },
  {
   "cell_type": "code",
   "execution_count": null,
   "id": "c674efba",
   "metadata": {},
   "outputs": [],
   "source": [
    "############################# run only if using QPU #######################################\n",
    "# the results are stored in job_set:\n",
    "results = []\n",
    "job = job_set2.jobs()\n",
    "result = job[0].result()"
   ]
  },
  {
   "cell_type": "code",
   "execution_count": 20,
   "id": "bb16d040",
   "metadata": {},
   "outputs": [],
   "source": [
    "############################# run only if retrieving jobs from backend #######################################\n",
    "job_list = backend.jobs(descending=True)\n",
    "results = []\n",
    "job = job_list[1]\n",
    "result = job.result()"
   ]
  },
  {
   "cell_type": "code",
   "execution_count": null,
   "id": "3a6aa610",
   "metadata": {},
   "outputs": [],
   "source": [
    "############################# run only if using QPU #######################################\n",
    "def save_job(job,filename):\n",
    "    with open(filename, \"bw\") as f:\n",
    "        pickle.dump(str(job.backend()), f)\n",
    "        pickle.dump(job.circuits(), f)\n",
    "        pickle.dump(job.creation_date(), f)\n",
    "        pickle.dump(job.done(), f)\n",
    "        pickle.dump(job.error_message(), f)\n",
    "        pickle.dump(job.job_id(), f)\n",
    "        pickle.dump(job.properties(), f)\n",
    "        pickle.dump(job.result(), f)\n",
    "save_job(job[0],\"BitFlipQubit_error_2\" + str(date.today()) + \".dat\")"
   ]
  },
  {
   "cell_type": "code",
   "execution_count": 21,
   "id": "25b57481",
   "metadata": {},
   "outputs": [],
   "source": [
    "############################# run only if using QPU #######################################\n",
    "if cat_state_switch:\n",
    "    projection_counts = marginal_counts(result, indices=[0,1]).get_counts()\n",
    "    ancilla_counts = result.get_counts()\n",
    "    for i, expmt in enumerate(ancilla_counts):\n",
    "        error_rate = 1-(expmt.get('10 00')/projection_counts[i].get('00'))\n",
    "        # write results to list\n",
    "        results_ = [i,round(error_rate,5)]\n",
    "        results_ += characterize_initial_layout(initial_layout=layout_list[i][0],initial_coupling=layout_list[i][1],pos_xgate=pos_error)\n",
    "        results_.append(tqcs[i].depth())\n",
    "        results_.append(tqcs[i].count_ops()['cx'])\n",
    "        results_.append(tqcs[i].size())\n",
    "        results_.append(str(layout[0]))\n",
    "        results.append(results_)\n",
    "else:\n",
    "    logical_counts = marginal_counts(result, indices=[0,1]).get_counts()\n",
    "    for i, expmt in enumerate(logical_counts):\n",
    "        error_rate = 1.0-(expmt.get(readout_string)/shots) # 01 ->x(x[0])\n",
    "        # write results to list\n",
    "        results_ = [i,round(error_rate,5)]\n",
    "        results_ += characterize_initial_layout(initial_layout=layout_list[i][0],initial_coupling=layout_list[i][1],pos_xgate=pos_error)\n",
    "        results_.append(tqcs[i].depth())\n",
    "        results_.append(tqcs[i].count_ops()['cx'])\n",
    "        results_.append(tqcs[i].size())\n",
    "        results_.append(str(layout[0]))\n",
    "        results.append(results_)"
   ]
  },
  {
   "cell_type": "code",
   "execution_count": 33,
   "id": "e1432061",
   "metadata": {},
   "outputs": [],
   "source": [
    "# and to file\n",
    "aresults = [sublist[:-1] for sublist in results]\n",
    "with open((\"BitFlipDetectionIBMsimsimErrorQubit2\" + str(date.today()) + \".dat\"), \"w\") as f:\n",
    "    f.write(\"#number\\t logical error \\t avCnotError \\t avT2 \\t avXError \\t avT1 \\t depth \\t nb cnots \\t size\\n\")\n",
    "    for result_ in aresults:\n",
    "        for el in result_: f.write(str(el)+\"\\t\")\n",
    "        f.write(\"\\n\")\n",
    "    f.close()\n",
    "\n",
    "# sort by value\n",
    "sresults = sorted(aresults, key=itemgetter(1))\n",
    "sresults = np.array(sresults)\n",
    "aresults = np.array(aresults)"
   ]
  },
  {
   "cell_type": "code",
   "execution_count": 34,
   "id": "b3497891",
   "metadata": {},
   "outputs": [
    {
     "data": {
      "image/png": "[encoded data removed]",
      "text/plain": [
       "<Figure size 864x288 with 1 Axes>"
      ]
     },
     "metadata": {
      "needs_background": "light"
     },
     "output_type": "display_data"
    }
   ],
   "source": [
    "x = np.arange(len(aresults[:]))\n",
    "plt.figure(figsize=(12.0,4.0))\n",
    "plt.bar(x,aresults[:,1], label='results')\n",
    "#plt.plot(aresults[:,2], linestyle='--', marker='o', label='average CNOT error')\n",
    "plt.xlabel('number of iteration over layout')\n",
    "plt.ylabel('logical error rate')\n",
    "plt.legend()\n",
    "plt.show()"
   ]
  },
  {
   "cell_type": "code",
   "execution_count": null,
   "id": "bd6840e8",
   "metadata": {},
   "outputs": [],
   "source": [
    "#################################### this block is for finding the optimal layout ##################################\n",
    "sresults = sorted(results, key=itemgetter(1))\n",
    "# Look at best cases\n",
    "for i in range(10):\n",
    "    print(\"Error rate is {} for layout no {}: {} with connectivity {}\"\\\n",
    "          .format(sresults[i][1],  int(sresults[i][0]), layout_list[int(sresults[i][0])][0], layout_list[int(sresults[i][0])][1]))"
   ]
  },
  {
   "cell_type": "code",
   "execution_count": null,
   "id": "8be2d60d",
   "metadata": {},
   "outputs": [],
   "source": [
    "# load results from file\n",
    "import numpy as np\n",
    "qpu_results = np.loadtxt('BitFlipDetectionQPU2021-12-07.dat')\n",
    "sim_results = np.loadtxt('BitFlipDetectionIBMSim2021-12-07.dat')\n",
    "mysim_results = np.loadtxt('BitFlipDetectionMySim2021-12-07.dat')\n",
    "\n",
    "sorted_sim_results = np.array(sorted(sim_results, key=itemgetter(1)))\n",
    "sorted_mysim_results = np.array(sorted(mysim_results, key=itemgetter(1)))\n",
    "sorted_qpu_results = np.array(sorted(qpu_results, key=itemgetter(1)))"
   ]
  },
  {
   "cell_type": "code",
   "execution_count": null,
   "id": "1ee9f830",
   "metadata": {},
   "outputs": [],
   "source": [
    "# make single array to compare performance and plot result\n",
    "all_results = mysim_results[:,0:2]\n",
    "all_results = np.append(all_results, qpu_results[:,1:2], axis=1)\n",
    "all_results = np.append(all_results, sim_results[:,1:2], axis=1)\n",
    "all_results = np.append(all_results, mysim_results[:,2:], axis=1)\n",
    "all_results = np.array(sorted(all_results, key=itemgetter(1)))\n",
    "all_results = all_results[0:20]"
   ]
  },
  {
   "cell_type": "code",
   "execution_count": null,
   "id": "53c8807c",
   "metadata": {},
   "outputs": [],
   "source": [
    "# plot results \n",
    "x = np.arange(len(qpu_results[:]))\n",
    "\n",
    "plt.figure(figsize=(12.0,3.0))\n",
    "plt.xlabel('number of iteration over layout')\n",
    "plt.ylabel('logical error rates')\n",
    "plt.bar(x,qpu_results[:,1], label='logical error rate QPU', fc=(1, 0, 0, 0.5))\n",
    "plt.bar(x,sim_results[:,1], label='logical error rate my model', fc=(0, 0, 1, 0.5))\n",
    "plt.bar(x,mysim_results[:,1], label='logical error rate rate IBM model', fc=(0, 1, 0, 0.5))\n",
    "plt.legend()\n",
    "plt.show()\n",
    "\n",
    "plt.figure(figsize=(12.0,3.0))\n",
    "plt.bar(x,sim_results[:,2], label='average CNOT error')\n",
    "plt.xlabel('number of iteration over layout')\n",
    "plt.ylabel('average CNOT error')\n",
    "plt.legend()\n",
    "plt.show()\n",
    "\n",
    "plt.figure(figsize=(12.0,3.0))\n",
    "plt.bar(x,sim_results[:,3], label='average T2')\n",
    "plt.xlabel('number of iteration over layout')\n",
    "plt.ylabel('average T2')\n",
    "plt.legend()\n",
    "plt.show()\n",
    "\n",
    "plt.figure(figsize=(12.0,3.0))\n",
    "plt.bar(x,mysim_results[:,4], label='X Error')\n",
    "plt.xlabel('number of iteration over layout')\n",
    "plt.ylabel('X Error')\n",
    "plt.legend()\n",
    "plt.show()\n",
    "\n",
    "plt.figure(figsize=(12.0,3.0))\n",
    "plt.bar(x,mysim_results[:,5], label='Readout Error')\n",
    "plt.xlabel('number of iteration over layout')\n",
    "plt.ylabel('average readout error')\n",
    "plt.legend()\n",
    "plt.show()\n"
   ]
  },
  {
   "cell_type": "code",
   "execution_count": null,
   "id": "6de0fc72",
   "metadata": {},
   "outputs": [],
   "source": [
    "# plot results (optionally from file)\n",
    "qpu_results = np.loadtxt('BitFlipDetectionQPUErrorQubit0_62021-12-21.dat')\n",
    "sim_results = np.loadtxt('BitFlipDetectionMySimErrorQubit0_72021-12-21.dat')\n",
    "#qpu_results = np.loadtxt('numerical_results/QPUResults/SydneyBitFlip_Qubit0_16Dez21/Results/averaged_results2021-12-20.dat')\n",
    "#qpu_results = np.loadtxt('numerical_results/QPUResults/SydneyBitFlip_Qubit0_16Dez21/Results/BitFlipDetectionQPUErrorQubit0_52021-12-17.dat')\n",
    "\n",
    "def plot_array(aresults):\n",
    "    x = np.arange(len(aresults[:]))\n",
    "    \n",
    "    plt.figure(figsize=(12.0,4.0))\n",
    "    plt.xlabel('number of iteration over layout')\n",
    "    plt.ylabel('logical error rates')\n",
    "    plt.bar(x,qpu_results[:,1], label='logical error rate qpu', fc=(1, 0, 0, 0.5))\n",
    "    plt.bar(x,sim_results[:,1], label='logical error rate my simulator', fc=(0, 1, 0, 0.5))\n",
    "    plt.bar(x,aresults[:,1], label='logical error rate IBM simulator', fc=(0, 0, 1, 0.5))\n",
    "    #plt.bar(x,sortedsimresults[:,1], label='logical error IBM noise model', fc=(1, 0, 0, 0.5))\n",
    "    plt.legend()\n",
    "    plt.show()\n",
    "\n",
    "    plt.figure(figsize=(12.0,4.0))\n",
    "    plt.bar(x,aresults[:,2], label='average CNOT error')\n",
    "    #plt.plot(aresults[:,2], linestyle='--', marker='o', label='average CNOT error')\n",
    "    plt.xlabel('number of iteration over layout')\n",
    "    plt.ylabel('average CNOT error')\n",
    "    plt.legend()\n",
    "    plt.show()\n",
    "\n",
    "    plt.figure(figsize=(12.0,4.0))\n",
    "    plt.bar(x,aresults[:,3], label='average T2')\n",
    "    #plt.plot(aresults[:,3], linestyle='--', marker='o', label='average T2')\n",
    "    plt.xlabel('number of iteration over layout')\n",
    "    plt.ylabel('average T2')\n",
    "    plt.legend()\n",
    "    plt.show()\n",
    "\n",
    "    plt.figure(figsize=(12.0,4.0))\n",
    "    plt.bar(x,aresults[:,4], label='X Error')\n",
    "    #plt.plot(aresults[:,4], linestyle='--', marker='o', label='average X Error')\n",
    "    plt.xlabel('number of iteration over layout')\n",
    "    plt.ylabel('X Error')\n",
    "    plt.legend()\n",
    "    plt.show()\n",
    "    \n",
    "    plt.figure(figsize=(12.0,4.0))\n",
    "    plt.bar(x,aresults[:,5], label='Readout Error')\n",
    "    #plt.plot(aresults[:,4], linestyle='--', marker='o', label='average X Error')\n",
    "    plt.xlabel('number of iteration over layout')\n",
    "    plt.ylabel('average readout error')\n",
    "    plt.legend()\n",
    "    plt.show()\n",
    "    \n",
    "plot_array(aresults[:])"
   ]
  },
  {
   "cell_type": "code",
   "execution_count": null,
   "id": "f2a0a5de",
   "metadata": {},
   "outputs": [],
   "source": [
    "# Look at best cases\n",
    "for i in range(10):\n",
    "    print(\"Error rate is {} for layout no {}: {} with connectivity {}\"\\\n",
    "          .format(sresults[i][1],  int(sresults[i][0]), layout_list[int(sresults[i][0])][0], layout_list[int(sresults[i][0])][1]))"
   ]
  },
  {
   "cell_type": "code",
   "execution_count": null,
   "id": "7cd37a3f",
   "metadata": {},
   "outputs": [],
   "source": []
  },
  {
   "cell_type": "code",
   "execution_count": null,
   "id": "bd844369",
   "metadata": {},
   "outputs": [],
   "source": [
    "# look at worst cases\n",
    "for i in range(1,10):\n",
    "    i *=-1\n",
    "    print(\"Error rate is {} for layout no {}: {} with connectivity {}\"\\\n",
    "          .format(sresults[i][1],  int(sresults[i][0]), layout_list[int(sresults[i][0])][0], layout_list[int(sresults[i][0])][1]))"
   ]
  },
  {
   "cell_type": "markdown",
   "id": "19716923",
   "metadata": {},
   "source": [
    "Regel für die liste:\n",
    "\n",
    "cnot zwischen 0->3, 1->3, 1->4, 2->4\n",
    "\n",
    "initial_layout=[3, 4, 2] bedeutet: Virtual -> physical 0 -> 3 1 -> 4 2 -> 2"
   ]
  },
  {
   "cell_type": "code",
   "execution_count": null,
   "id": "b796c5b3",
   "metadata": {},
   "outputs": [],
   "source": []
  },
  {
   "cell_type": "code",
   "execution_count": null,
   "id": "5b7f3df1",
   "metadata": {},
   "outputs": [],
   "source": [
    "original_layout_list = [11, 13, 14, 16, 19] \n",
    "nb_original_layout = 40\n",
    "connectivity = [(11, 14), (13, 14), (14, 16), (16, 19)] \n",
    "permuts = list(itertools.permutations(original_layout_list))"
   ]
  },
  {
   "cell_type": "code",
   "execution_count": null,
   "id": "1e5e91ae",
   "metadata": {},
   "outputs": [],
   "source": [
    "print(len(permuts))"
   ]
  },
  {
   "cell_type": "code",
   "execution_count": null,
   "id": "19249e39",
   "metadata": {},
   "outputs": [],
   "source": [
    "# loop over layout list and store result in list of dicts\n",
    "permut_results = []\n",
    "\n",
    "for l, layout in enumerate(permuts):\n",
    "    tqc = transpile(qc, backend=simulator, basis_gates=basis_gates, \\\n",
    "                optimization_level=3, coupling_map=coupling_map, initial_layout=layout)\n",
    "    result = simulator.run(tqc,shots=shots,memory=True).result()\n",
    "    ancilla_counts = marginal_counts(result, indices=[0,1]).get_counts()\n",
    "\n",
    "    # change to (01) for x[0], (11) for x[1], (10) for x[2]\n",
    "    error_rate = 1.0-(ancilla_counts.get('01')/shots)\n",
    "\n",
    "    results_ = [l,round(error_rate,5)]\n",
    "    results_ += characterize_initial_layout(initial_layout=layout,initial_coupling=connectivity)\n",
    "    results_.append(tqc.depth())\n",
    "    results_.append(tqc.count_ops()['cx'])\n",
    "    results_.append(tqc.size())\n",
    "\n",
    "    permut_results.append(results_)"
   ]
  },
  {
   "cell_type": "code",
   "execution_count": null,
   "id": "00de4817",
   "metadata": {},
   "outputs": [],
   "source": [
    "# sort by value\n",
    "spermut_results = sorted(permut_results, key=itemgetter(1))\n",
    "spermut_results = np.array(spermut_results)\n",
    "apermut_results = np.array(permut_results)"
   ]
  },
  {
   "cell_type": "code",
   "execution_count": null,
   "id": "73f78693",
   "metadata": {},
   "outputs": [],
   "source": [
    "# plot results (optionally from file)\n",
    "\n",
    "#aresults = np.loadtxt('predef_layout_2021-11-04.dat')\n",
    "#aresults = [sublist[:-1] for sublist in results]\n",
    "x = np.arange(len(spermut_results))\n",
    "\n",
    "def plot_array(aresults):\n",
    "    plt.figure(figsize=(12.0,4.0))\n",
    "    plt.xlabel('number of iteration over layout')\n",
    "    plt.ylabel('logical error rates')\n",
    "    #plt.plot(aresults[:,2], linestyle='--', marker='o', label='average CNOT error')\n",
    "    plt.bar(x,aresults[:,1], label='logical error rate')\n",
    "    plt.legend()\n",
    "    plt.show()\n",
    "\n",
    "    plt.figure(figsize=(12.0,4.0))\n",
    "    plt.bar(x,aresults[:,6], label='depth of compiled circuit')\n",
    "    #plt.plot(aresults[:,4], linestyle='--', marker='o', label='average X Error')\n",
    "    plt.xlabel('number of iteration over layout')\n",
    "    plt.ylabel('depth of compiled circuit')\n",
    "    plt.legend()\n",
    "    plt.show()\n",
    "    \n",
    "    plt.figure(figsize=(12.0,4.0))\n",
    "    plt.bar(x,aresults[:,7], label='no cnots of compiled circuit')\n",
    "    #plt.plot(aresults[:,4], linestyle='--', marker='o', label='average X Error')\n",
    "    plt.xlabel('number of iteration over layout')\n",
    "    plt.ylabel('no cnots of compiled circuit')\n",
    "    plt.legend()\n",
    "    plt.show()\n",
    "    \n",
    "    plt.figure(figsize=(12.0,4.0))\n",
    "    plt.bar(x,aresults[:,8], label='size of compiled circuit')\n",
    "    #plt.plot(aresults[:,4], linestyle='--', marker='o', label='average X Error')\n",
    "    plt.xlabel('number of iteration over layout')\n",
    "    plt.ylabel('size of compiled circuit')\n",
    "    plt.legend()\n",
    "    plt.show()\n",
    "    \n",
    "plot_array(spermut_results)"
   ]
  },
  {
   "cell_type": "code",
   "execution_count": null,
   "id": "330064c0",
   "metadata": {},
   "outputs": [],
   "source": [
    "# Look at best cases\n",
    "for i in range(10):\n",
    "    print(\"Error rate is {} for layout no {}: {}\"\\\n",
    "          .format(spermut_results[i][1],  int(spermut_results[i][0]), permuts[int(spermut_results[i][0])]))"
   ]
  },
  {
   "cell_type": "code",
   "execution_count": null,
   "id": "023bd7e1",
   "metadata": {},
   "outputs": [],
   "source": [
    "# sort by lowerst cnot\n",
    "spermut_results = sorted(permut_results, key=itemgetter(7))"
   ]
  },
  {
   "cell_type": "code",
   "execution_count": null,
   "id": "52c894c6",
   "metadata": {},
   "outputs": [],
   "source": [
    "# [(11, 14), (13, 14), (14, 16), (16, 19)] \n",
    "for i in range(10):\n",
    "    print(\"Error rate is {} for layoutnb {}, cnot nb {}: {}\"\\\n",
    "          .format(spermut_results[i][1],  int(spermut_results[i][0]), spermut_results[i][7], permuts[int(spermut_results[i][0])]))"
   ]
  },
  {
   "cell_type": "code",
   "execution_count": null,
   "id": "65bb379f",
   "metadata": {},
   "outputs": [],
   "source": [
    "# schreibe bitflip code so, dass ich zu Beginn selbst die benötigten Swaps für die CNOTs ausführe.\n",
    "# Look at best cases\n",
    "for i in range(10):\n",
    "    print(\"Error rate is {} for layout no {}: {} with connectivity {}\"\\\n",
    "          .format(sresults[i][1],  int(sresults[i][0]), layout_list[int(sresults[i][0])][0], layout_list[int(sresults[i][0])][1]))"
   ]
  },
  {
   "cell_type": "code",
   "execution_count": null,
   "id": "48d309ae",
   "metadata": {},
   "outputs": [],
   "source": [
    "simulator = AerSimulator(noise_model=my_noise_model)\n",
    "qc = bitflip_code_only_detection_with_cat_state(pos_xerror=0)\n",
    "tqc = transpile(qc, backend=simulator, basis_gates=basis_gates, \\\n",
    "                optimization_level=3, coupling_map=coupling_map, initial_layout=(9, 11, 13, 8, 14))\n",
    "tqc.count_ops()"
   ]
  },
  {
   "cell_type": "code",
   "execution_count": null,
   "id": "0d088dd9",
   "metadata": {},
   "outputs": [],
   "source": [
    "display(plot_circuit_layout(tqc, backend)) "
   ]
  },
  {
   "cell_type": "code",
   "execution_count": null,
   "id": "51243492",
   "metadata": {},
   "outputs": [],
   "source": [
    "tqc.draw('mpl', idle_wires=False)"
   ]
  },
  {
   "cell_type": "code",
   "execution_count": null,
   "id": "5df56a32",
   "metadata": {},
   "outputs": [],
   "source": [
    "result = simulator.run(tqc, shots=1000000, memory=True).result()\n",
    "projection_counts = marginal_counts(result, indices=[0,1]).get_counts()\n",
    "ancilla_counts = result.get_counts()['01 00']\n",
    "error_rate = 1-(ancilla_counts/projection_counts['00'])"
   ]
  },
  {
   "cell_type": "code",
   "execution_count": null,
   "id": "3de43b55",
   "metadata": {},
   "outputs": [],
   "source": [
    "error_rate"
   ]
  },
  {
   "cell_type": "code",
   "execution_count": null,
   "id": "69f5e8ea",
   "metadata": {},
   "outputs": [],
   "source": [
    "print(layout_list[int(sresults[0][0])][0])"
   ]
  },
  {
   "cell_type": "code",
   "execution_count": null,
   "id": "636076ad",
   "metadata": {},
   "outputs": [],
   "source": [
    "print(sresults[1][2])"
   ]
  },
  {
   "cell_type": "code",
   "execution_count": null,
   "id": "1e2c8cd0",
   "metadata": {},
   "outputs": [],
   "source": [
    "e=6\n",
    "print(layout_list[int(sresults[e][0])][0])\n",
    "for el in layout_list[int(sresults[e][0])][1]:\n",
    "    print(properties.gate_error('cx',el))\n",
    "print(\"\\n\")\n",
    "print(properties.readout_error(layout_list[int(sresults[e][0])][0][-1]))\n",
    "print(properties.readout_error(layout_list[int(sresults[e][0])][0][-2]))"
   ]
  },
  {
   "cell_type": "code",
   "execution_count": null,
   "id": "1bd549e5",
   "metadata": {},
   "outputs": [],
   "source": [
    "\n",
    "qc = bitflip_code_only_detection()\n",
    "tqc = transpile(qc, backend=simulator, basis_gates=basis_gates, \\\n",
    "                optimization_level=3, coupling_map=coupling_map, initial_layout=(11, 13, 19, 14, 16))\n",
    "display(plot_circuit_layout(tqc, backend))    "
   ]
  },
  {
   "cell_type": "code",
   "execution_count": null,
   "id": "4a16100c",
   "metadata": {},
   "outputs": [],
   "source": [
    "il = [11, 13, 19, 14, 16]\n",
    "connectivity_list = [(11, 14), (13, 14), (14, 16), (16, 19)] \n",
    "cnot_gate_list = [(il[0],il[3]),(il[1],il[3]),(il[1],il[4]),(il[2],il[4])]"
   ]
  },
  {
   "cell_type": "code",
   "execution_count": null,
   "id": "c6f87ae5",
   "metadata": {},
   "outputs": [],
   "source": [
    "cnot_gate_list= [(11, 14), (13, 14), (14, 16), (16, 19)] "
   ]
  },
  {
   "cell_type": "code",
   "execution_count": null,
   "id": "6806cea2",
   "metadata": {},
   "outputs": [],
   "source": [
    "counter = 0\n",
    "for t, tuple in enumerate(connectivity_list):\n",
    "    if ((tuple==cnot_gate_list[t]) or ((tuple[1],tuple[0])==cnot_gate_list[t])):\n",
    "        counter+=1"
   ]
  },
  {
   "cell_type": "code",
   "execution_count": null,
   "id": "9b2ace7d",
   "metadata": {},
   "outputs": [],
   "source": [
    "counter"
   ]
  },
  {
   "cell_type": "code",
   "execution_count": null,
   "id": "5d37af87",
   "metadata": {},
   "outputs": [],
   "source": [
    "result = [do_something_with(item) for item in item_list]"
   ]
  },
  {
   "cell_type": "code",
   "execution_count": null,
   "id": "a79726c2",
   "metadata": {},
   "outputs": [],
   "source": [
    "# find all connected subgraphs in coupling map\n",
    "G = nx.Graph()\n",
    "G.add_nodes_from(list(np.arange(27)))\n",
    "G.add_edges_from(coupling_map)\n",
    "\n",
    "all_connected_subgraphs = []\n",
    "layout_list = []\n",
    "nb_nodes=5\n",
    "for SG in (G.subgraph(selected_nodes) for selected_nodes in combinations(G, nb_nodes)):\n",
    "    if nx.is_connected(SG):\n",
    "        #print(SG.nodes)\n",
    "        all_connected_subgraphs.append(SG)\n",
    "        layout_list.append([list(SG.nodes),list(SG.edges)])"
   ]
  },
  {
   "cell_type": "code",
   "execution_count": null,
   "id": "4edf1a5e",
   "metadata": {},
   "outputs": [],
   "source": [
    "lalist = [item[0] for item in layout_list]"
   ]
  },
  {
   "cell_type": "code",
   "execution_count": null,
   "id": "eccb04a5",
   "metadata": {},
   "outputs": [],
   "source": [
    "cnot_layout_list = []\n",
    "for item in layout_list:\n",
    "    permuts = list(itertools.permutations(item[0]))\n",
    "    for permut in permuts:\n",
    "        cnot_gate_list = [(permut[0],permut[3]),(permut[1],permut[3]),(permut[1],permut[4]),(permut[2],permut[4])]\n",
    "        counter_cnots = 0\n",
    "        for t, tuple in enumerate(item[1]):\n",
    "            if ((tuple==cnot_gate_list[t]) or ((tuple[1],tuple[0])==cnot_gate_list[t])):\n",
    "                counter_cnots+=1\n",
    "            if counter_cnots>=4:\n",
    "                cnot_layout_list.append([permut,item[1]])"
   ]
  },
  {
   "cell_type": "code",
   "execution_count": null,
   "id": "765cf91a",
   "metadata": {},
   "outputs": [],
   "source": [
    "len(cnot_layout_list)"
   ]
  },
  {
   "cell_type": "code",
   "execution_count": null,
   "id": "76991686",
   "metadata": {},
   "outputs": [],
   "source": [
    "simulator = AerSimulator(noise_model=noise_model)\n",
    "qc = bitflip_code_only_detection()\n",
    "tqc = transpile(qc, backend=simulator, basis_gates=basis_gates, \\\n",
    "                optimization_level=3, coupling_map=coupling_map, initial_layout=cnot_layout_list[20][0])\n",
    "display(tqc.draw('mpl', idle_wires=False))\n",
    "display(plot_circuit_layout(tqc, backend))  "
   ]
  },
  {
   "cell_type": "code",
   "execution_count": null,
   "id": "e20dfcf4",
   "metadata": {},
   "outputs": [],
   "source": [
    "tqc.count_ops()"
   ]
  },
  {
   "cell_type": "code",
   "execution_count": null,
   "id": "092b0502",
   "metadata": {},
   "outputs": [],
   "source": []
  },
  {
   "cell_type": "code",
   "execution_count": null,
   "id": "23b00862",
   "metadata": {},
   "outputs": [],
   "source": [
    "from qiskit.visualization import plot_gate_map\n",
    "plot_gate_map(backend)"
   ]
  },
  {
   "cell_type": "code",
   "execution_count": null,
   "id": "8bc4cf96",
   "metadata": {},
   "outputs": [],
   "source": []
  },
  {
   "cell_type": "code",
   "execution_count": null,
   "id": "09b646e7",
   "metadata": {},
   "outputs": [],
   "source": []
  },
  {
   "cell_type": "code",
   "execution_count": null,
   "id": "968dc1eb",
   "metadata": {},
   "outputs": [],
   "source": []
  },
  {
   "cell_type": "code",
   "execution_count": null,
   "id": "29aefb78",
   "metadata": {},
   "outputs": [],
   "source": []
  },
  {
   "cell_type": "code",
   "execution_count": null,
   "id": "58dbe41c",
   "metadata": {},
   "outputs": [],
   "source": []
  },
  {
   "cell_type": "code",
   "execution_count": null,
   "id": "3af93304",
   "metadata": {},
   "outputs": [],
   "source": [
    "# plot results in tight layout (optionally from file)\n",
    "\n",
    "#aresults = np.loadtxt('predef_layout_2021-11-04.dat')\n",
    "#aresults = [sublist[:-1] for sublist in results]\n",
    "\n",
    "plt.figure(figsize=(12.0,4.0))\n",
    "plt.subplot(1,4,1)\n",
    "plt.xlabel('number of iteration over layout')\n",
    "plt.ylabel('effective error rates')\n",
    "plt.plot(aresults[:,0],aresults[:,1], linestyle='--', marker='o', label='logical error rate')\n",
    "plt.legend()\n",
    "plt.subplot(1,4,2)\n",
    "plt.plot(aresults[:,0],aresults[:,2], linestyle='--', marker='o', label='average CNOT error')\n",
    "plt.xlabel('number of iteration over layout')\n",
    "plt.ylabel('average CNOT error')\n",
    "plt.legend()\n",
    "plt.subplot(1,4,3)\n",
    "plt.plot(aresults[:,0],aresults[:,3], linestyle='--', marker='o', label='average T2')\n",
    "plt.xlabel('number of iteration over layout')\n",
    "plt.ylabel('average T2')\n",
    "plt.legend()\n",
    "plt.subplot(1,4,4)\n",
    "plt.plot(aresults[:,0],aresults[:,4], linestyle='--', marker='o', label='average X Error')\n",
    "plt.xlabel('number of iteration over layout')\n",
    "plt.ylabel('average X Error')\n",
    "plt.legend()\n",
    "plt.tight_layout()\n",
    "plt.show()"
   ]
  },
  {
   "cell_type": "code",
   "execution_count": null,
   "id": "93732352",
   "metadata": {},
   "outputs": [],
   "source": []
  },
  {
   "cell_type": "code",
   "execution_count": null,
   "id": "fbf0d56d",
   "metadata": {},
   "outputs": [],
   "source": []
  },
  {
   "cell_type": "code",
   "execution_count": null,
   "id": "3b5e451b",
   "metadata": {},
   "outputs": [],
   "source": [
    "# plot results (optionally from file)\n",
    "\n",
    "#aresults = np.loadtxt('predef_layout_2021-11-04.dat')\n",
    "#aresults = [sublist[:-1] for sublist in results]\n",
    "x = np.arange(len(aresults))\n",
    "\n",
    "def plot_array(aresults):\n",
    "    plt.figure(figsize=(12.0,4.0))\n",
    "    plt.bar(x,aresults[:,6], label='depth of compiled circuit')\n",
    "    #plt.plot(aresults[:,4], linestyle='--', marker='o', label='average X Error')\n",
    "    plt.xlabel('number of iteration over layout')\n",
    "    plt.ylabel('depth of compiled circuit')\n",
    "    plt.legend()\n",
    "    plt.show()\n",
    "    \n",
    "    plt.figure(figsize=(12.0,4.0))\n",
    "    plt.bar(x,aresults[:,7], label='no cnots of compiled circuit')\n",
    "    #plt.plot(aresults[:,4], linestyle='--', marker='o', label='average X Error')\n",
    "    plt.xlabel('number of iteration over layout')\n",
    "    plt.ylabel('no cnots of compiled circuit')\n",
    "    plt.legend()\n",
    "    plt.show()\n",
    "    \n",
    "    plt.figure(figsize=(12.0,4.0))\n",
    "    plt.bar(x,aresults[:,8], label='size of compiled circuit')\n",
    "    #plt.plot(aresults[:,4], linestyle='--', marker='o', label='average X Error')\n",
    "    plt.xlabel('number of iteration over layout')\n",
    "    plt.ylabel('size of compiled circuit')\n",
    "    plt.legend()\n",
    "    plt.show()\n",
    "    \n",
    "plot_array(sresults)"
   ]
  }
 ],
 "metadata": {
  "kernelspec": {
   "display_name": "Python 3 (ipykernel)",
   "language": "python",
   "name": "python3"
  },
  "language_info": {
   "codemirror_mode": {
    "name": "ipython",
    "version": 3
   },
   "file_extension": ".py",
   "mimetype": "text/x-python",
   "name": "python",
   "nbconvert_exporter": "python",
   "pygments_lexer": "ipython3",
   "version": "3.9.7"
  }
 },
 "nbformat": 4,
 "nbformat_minor": 5
}
